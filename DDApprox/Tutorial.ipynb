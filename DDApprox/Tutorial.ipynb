{
 "cells": [
  {
   "cell_type": "markdown",
   "metadata": {},
   "source": [
    "## Tutorial on how to use the drift-diffusion simulation approximation"
   ]
  },
  {
   "cell_type": "markdown",
   "metadata": {},
   "source": [
    "### Import python packages"
   ]
  },
  {
   "cell_type": "code",
   "execution_count": null,
   "metadata": {},
   "outputs": [],
   "source": [
    "import numpy as np\n",
    "import matplotlib.pyplot as plt\n",
    "import seaborn as sns \n",
    "import pandas as pd\n",
    "from Device import Device\n",
    "from Simulation import Simulation\n",
    "from matplotlib.colors import LogNorm\n",
    "# There has to be a parameter file called 'params.py' in the same directory as the script"
   ]
  },
  {
   "cell_type": "markdown",
   "metadata": {},
   "source": [
    "### Create a new device based on the parameter file\n",
    "\n",
    "First we create a new device. The parameters of the device are defined in the params.py file. The only parameter that needs to be passed to the object of the Device class is the temperature."
   ]
  },
  {
   "cell_type": "code",
   "execution_count": null,
   "metadata": {},
   "outputs": [],
   "source": [
    "## Define the temperature of the device\n",
    "temperature = 300.0 \n",
    "\n",
    "device = Device(temp=temperature)\n"
   ]
  },
  {
   "cell_type": "markdown",
   "metadata": {},
   "source": [
    "### Create new simulation\n",
    "\n",
    "Now we create a new simulation, which takes the device as an input. If we want to simualate a transient simualtion, we also have to pass an numpy time array. If we want to simulate a capacitance frequency simulation, we have to pass a numpy array containing the frequencies."
   ]
  },
  {
   "cell_type": "markdown",
   "metadata": {},
   "source": [
    "#### Transient simulations"
   ]
  },
  {
   "cell_type": "code",
   "execution_count": null,
   "metadata": {},
   "outputs": [],
   "source": [
    "timesteps = np.logspace(-3, 1) # Define time array from 1ms to 10s\n",
    "\n",
    "simulation = Simulation(device, timesteps=timesteps)\n",
    "\n",
    "simulation.calc_impedance_vs_t() # Call this to calculate the capacitance and current vs time"
   ]
  },
  {
   "cell_type": "markdown",
   "metadata": {},
   "source": [
    "We can now plot different device properties. First we plot the capacitance and the current transients. To access the capcitances and currents, we simply call `simulation.Ct_Cs` or `simualation.Jt`"
   ]
  },
  {
   "cell_type": "code",
   "execution_count": null,
   "metadata": {},
   "outputs": [],
   "source": [
    "## Plot the capacitance vs time\n",
    "plt.figure(figsize=(4, 3))\n",
    "plt.plot(simulation.timesteps, simulation.Ct_Cs, label='Capacitance')\n",
    "plt.xscale('log')\n",
    "plt.xlabel('Time (s)')\n",
    "plt.ylabel('Capacitance (F/m^2)')\n",
    "plt.title('Capacitance transient')\n",
    "\n",
    "## Plot the current vs time\n",
    "plt.figure(figsize=(4, 3))\n",
    "plt.plot(simulation.timesteps, simulation.Jt, label='Capacitance')\n",
    "plt.xscale('log')\n",
    "plt.xlabel('Time (s)')\n",
    "plt.ylabel('Current density (A/m^2)')\n",
    "plt.title('Current transient')\n"
   ]
  },
  {
   "cell_type": "markdown",
   "metadata": {},
   "source": [
    "#### Capacitance frequency simulations\n",
    "\n",
    "In order to create a capacitance frequency simulation, we have to pass an array with the frequencies to the `calc_impedance_vs_freq` function. We additionally have to set the `consider_cations` variable to `True` to make sure that ions are considered when computing the AC solution"
   ]
  },
  {
   "cell_type": "code",
   "execution_count": null,
   "metadata": {},
   "outputs": [],
   "source": [
    "frequencies = np.logspace(-1, 6) # Frequency array from 0.1Hz to 1MHz\n",
    "simulation = Simulation(device) # Create a new simulation object\n",
    "simulation.consider_cations = True # Activate cations\n",
    "simulation.calc_impedance_vs_freq(freqs=frequencies) # Call this to calculate the capacitance vs. frequency\n",
    "\n",
    "## Plot the capacitance vs frequency\n",
    "plt.figure(figsize=(4, 3))\n",
    "plt.plot(frequencies, simulation.Cf_Cs, label='Capacitance')\n",
    "plt.xscale('log')\n",
    "plt.xlabel('Frequency (Hz)')\n",
    "plt.ylabel('Capacitance (F/m^2)')\n",
    "plt.title('Capacitance frequency')"
   ]
  },
  {
   "cell_type": "markdown",
   "metadata": {},
   "source": [
    "### Plotting potential and carriers\n",
    "\n",
    "Now we focus on plotting the potential, and density of accumulated charges. \n",
    "First, we again create a transient simulation"
   ]
  },
  {
   "cell_type": "code",
   "execution_count": null,
   "metadata": {},
   "outputs": [],
   "source": [
    "timesteps = np.logspace(-3, 1) # Define time array from 1ms to 10s\n",
    "\n",
    "simulation = Simulation(device, timesteps=timesteps)\n",
    "\n",
    "simulation.calc_impedance_vs_t() # Call this to calculate the capacitance and current vs time"
   ]
  },
  {
   "cell_type": "markdown",
   "metadata": {},
   "source": [
    "We can then easily access the potential of the device with `simulation.pot` which is a 2D array dependent on the time and position."
   ]
  },
  {
   "cell_type": "code",
   "execution_count": null,
   "metadata": {},
   "outputs": [],
   "source": [
    "time_mesh, position_mesh = np.meshgrid(simulation.timesteps, simulation.position_steps, indexing='ij')\n",
    "\n",
    "print(simulation.pot.shape)\n",
    "\n",
    "\n",
    "plt.figure(figsize=(4, 3))\n",
    "df = pd.DataFrame({'Potential (V)': simulation.pot.flatten(), 'Time (s)': time_mesh.flatten(), 'Position (m)': position_mesh.flatten()})\n",
    "\n",
    "sns.lineplot(data=df, x='Position (m)', y='Potential (V)', hue='Time (s)', palette='viridis', hue_norm=LogNorm())\n",
    "\n",
    "# plt.xlabel('Position (m)')\n",
    "# plt.ylabel('Potential (V)')"
   ]
  },
  {
   "cell_type": "markdown",
   "metadata": {},
   "source": [
    "We can also plot the net charge density through the device. For this, we first have to call `simulation.calc_densities()`"
   ]
  },
  {
   "cell_type": "code",
   "execution_count": null,
   "metadata": {},
   "outputs": [],
   "source": [
    "simulation.calc_densities()\n",
    "\n",
    "time_mesh, position_mesh = np.meshgrid(simulation.timesteps, simulation.position_steps, indexing='ij')\n",
    "plt.figure(figsize=(6, 4))\n",
    "\n",
    "print()\n",
    "\n",
    "df = pd.DataFrame({'Net density (m^-3)': simulation.net_density.flatten(), 'Time (s)': time_mesh.flatten(), 'Position (m)': position_mesh.flatten()})\n",
    "\n",
    "sns.lineplot(data=df, x='Position (m)', y='Net density (m^-3)', hue='Time (s)', palette='viridis', hue_norm=LogNorm())\n",
    "\n"
   ]
  },
  {
   "cell_type": "markdown",
   "metadata": {},
   "source": [
    "Other accessible properties are the conduction and valence band energies with `simulation.E_vb` and `simulation.E_cb`, the width and densities of the different layers for e.g. the ionic accumulation layer `simulation.n2_t` and `simulation.w2_t`:"
   ]
  },
  {
   "cell_type": "code",
   "execution_count": null,
   "metadata": {},
   "outputs": [],
   "source": [
    "plt.figure(figsize=(4, 3))\n",
    "plt.plot(simulation.timesteps, simulation.n2_t)\n",
    "plt.xscale('log')\n",
    "plt.xlabel('Time (s)')\n",
    "plt.ylabel('Density (m^-3)')\n",
    "\n",
    "plt.figure(figsize=(4, 3))\n",
    "plt.plot(simulation.timesteps, simulation.w2_t)\n",
    "plt.xscale('log')\n",
    "plt.xlabel('Time (s)')\n",
    "plt.ylabel('Width of accumulation region (m)')\n"
   ]
  },
  {
   "cell_type": "markdown",
   "metadata": {},
   "source": [
    "To compute the electrical charge densities, we first have to call `simulation.calc_densities()`. Then, we can access the electron and hole density with `n_dc` and `p_dc`. "
   ]
  },
  {
   "cell_type": "code",
   "execution_count": null,
   "metadata": {},
   "outputs": [],
   "source": [
    "time_mesh, position_mesh = np.meshgrid(simulation.timesteps, simulation.position_steps, indexing='ij')\n",
    "simulation.calc_densities()\n",
    "\n",
    "plt.figure(figsize=(4, 3))\n",
    "df = pd.DataFrame({'Density (m^-3)': simulation.n_dc.flatten(), 'Time (s)': time_mesh.flatten(), 'Position (m)': position_mesh.flatten()})\n",
    "sns.lineplot(data=df, x='Position (m)', y='Density (m^-3)', hue='Time (s)', palette='viridis', hue_norm=LogNorm())\n",
    "plt.yscale('log')"
   ]
  },
  {
   "cell_type": "markdown",
   "metadata": {},
   "source": [
    "Similarly, the complex AC densities and potential can be accessed with `simualtion.n_ac`, `simualtion.p_ac`, `simualtion.psi_ac`. "
   ]
  },
  {
   "cell_type": "markdown",
   "metadata": {},
   "source": [
    "### Sweeping of parameters\n",
    "\n",
    "We can also easily sweep parameters to, for example, fit measurements. \n",
    "We again start by defining a device "
   ]
  },
  {
   "cell_type": "code",
   "execution_count": null,
   "metadata": {},
   "outputs": [],
   "source": [
    "## Define the temperature of the device\n",
    "temperature = 300.0 \n",
    "device = Device(temp=temperature)"
   ]
  },
  {
   "cell_type": "markdown",
   "metadata": {},
   "source": [
    "If we now want to compute the different techniques for different ion densities, we simply loop through the ion density parameter:"
   ]
  },
  {
   "cell_type": "markdown",
   "metadata": {},
   "source": [
    "For the capacitance transients:"
   ]
  },
  {
   "cell_type": "code",
   "execution_count": null,
   "metadata": {},
   "outputs": [],
   "source": [
    "n_ions = np.logspace(23, 24, 4) # Define the ion density array from 10^23 to 10^24\n",
    "timesteps = np.logspace(-3, 1) # Define time array from 1ms to 10s\n",
    "\n",
    "plt.figure(figsize=(4, 3))\n",
    "for n_ion in n_ions:\n",
    "    device.n_ion = n_ion # Set ion density\n",
    "    simulation = Simulation(device, timesteps)\n",
    "    simulation.calc_impedance_vs_t()\n",
    "    plt.plot(timesteps, simulation.Ct_Cs, label=f'{n_ion:.1e} m^-3') \n",
    "plt.xscale('log')\n",
    "plt.xlabel('Time (s)')\n",
    "plt.ylabel('Capacitance (F/m^2)')\n",
    "plt.title('Capacitance transients')\n",
    "plt.legend()\n"
   ]
  },
  {
   "cell_type": "markdown",
   "metadata": {},
   "source": [
    "For the current transients:"
   ]
  },
  {
   "cell_type": "code",
   "execution_count": null,
   "metadata": {},
   "outputs": [],
   "source": [
    "n_ions = np.logspace(23, 24, 4) # Define the ion density array from 10^23 to 10^24\n",
    "timesteps = np.logspace(-3, 1) # Define time array from 1ms to 10s\n",
    "\n",
    "plt.figure(figsize=(4, 3))\n",
    "for n_ion in n_ions:\n",
    "    device.n_ion = n_ion # Set ion density\n",
    "    simulation = Simulation(device, timesteps)\n",
    "    simulation.calc_impedance_vs_t()\n",
    "    plt.plot(timesteps, simulation.Jt, label=f'{n_ion:.1e} m^-3') \n",
    "plt.xscale('log')\n",
    "plt.xlabel('Time (s)')\n",
    "plt.ylabel('Current density (A/m^2)')\n",
    "plt.title('Current transients')\n",
    "plt.legend()\n"
   ]
  },
  {
   "cell_type": "markdown",
   "metadata": {},
   "source": [
    "And finally for the capacitance frequency measurements"
   ]
  },
  {
   "cell_type": "code",
   "execution_count": null,
   "metadata": {},
   "outputs": [],
   "source": [
    "n_ions = np.logspace(23, 24, 4) # Define the ion density array from 10^23 to 10^24\n",
    "frequencies = np.logspace(-1, 6) # Define time array from 1ms to 10s\n",
    "\n",
    "plt.figure(figsize=(4, 3))\n",
    "for n_ion in n_ions:\n",
    "    device.n_ion = n_ion # Set ion density\n",
    "    simulation = Simulation(device )\n",
    "    simulation.consider_cations = True\n",
    "    simulation.calc_impedance_vs_freq(frequencies)\n",
    "    plt.plot(frequencies, simulation.Cf_Cs, label=f'{n_ion:.1e} m^-3') \n",
    "plt.xscale('log')\n",
    "plt.xlabel('Time (s)')\n",
    "plt.ylabel('Capacitance (F/m^2)')\n",
    "plt.title('Capacitance frequency')\n",
    "plt.legend()\n"
   ]
  },
  {
   "cell_type": "markdown",
   "metadata": {},
   "source": [
    "Have fun!"
   ]
  }
 ],
 "metadata": {
  "kernelspec": {
   "display_name": "myenv",
   "language": "python",
   "name": "python3"
  },
  "language_info": {
   "codemirror_mode": {
    "name": "ipython",
    "version": 3
   },
   "file_extension": ".py",
   "mimetype": "text/x-python",
   "name": "python",
   "nbconvert_exporter": "python",
   "pygments_lexer": "ipython3",
   "version": "3.9.6"
  }
 },
 "nbformat": 4,
 "nbformat_minor": 4
}
